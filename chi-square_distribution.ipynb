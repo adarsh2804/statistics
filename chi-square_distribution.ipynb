{
 "cells": [
  {
   "cell_type": "code",
   "execution_count": 1,
   "metadata": {},
   "outputs": [],
   "source": [
    "import warnings\n",
    "warnings.filterwarnings(\"ignore\")"
   ]
  },
  {
   "cell_type": "code",
   "execution_count": 2,
   "metadata": {},
   "outputs": [],
   "source": [
    "import random\n",
    "import numpy as np\n",
    "from scipy import stats\n",
    "import pandas as pd\n",
    "import seaborn as sns\n",
    "import matplotlib.pyplot as plt\n",
    "# import the functions to perform Chi-square tests\n",
    "from scipy.stats import chi2_contingency\n",
    "from scipy.stats import chi2\n",
    "from scipy.stats import chisquare"
   ]
  },
  {
   "cell_type": "markdown",
   "metadata": {},
   "source": [
    "### Chi Sq distribution is made up of sum of squares of independent Z distributions"
   ]
  },
  {
   "cell_type": "markdown",
   "metadata": {},
   "source": [
    "##### Chi SQ df = 1"
   ]
  },
  {
   "cell_type": "code",
   "execution_count": 3,
   "metadata": {},
   "outputs": [],
   "source": [
    "Z = np.random.normal(loc=0,scale=1,size = 10000)"
   ]
  },
  {
   "cell_type": "code",
   "execution_count": 4,
   "metadata": {},
   "outputs": [
    {
     "data": {
      "image/png": "[encoded data removed]",
      "text/plain": [
       "<Figure size 432x288 with 1 Axes>"
      ]
     },
     "metadata": {
      "needs_background": "light"
     },
     "output_type": "display_data"
    }
   ],
   "source": [
    "sns.distplot(Z);"
   ]
  },
  {
   "cell_type": "code",
   "execution_count": 5,
   "metadata": {},
   "outputs": [],
   "source": [
    "ChiSq1 = Z**2"
   ]
  },
  {
   "cell_type": "code",
   "execution_count": 6,
   "metadata": {},
   "outputs": [
    {
     "data": {
      "image/png": "[encoded data removed]",
      "text/plain": [
       "<Figure size 432x288 with 1 Axes>"
      ]
     },
     "metadata": {
      "needs_background": "light"
     },
     "output_type": "display_data"
    }
   ],
   "source": [
    "sns.distplot(ChiSq1);"
   ]
  },
  {
   "cell_type": "code",
   "execution_count": 7,
   "metadata": {},
   "outputs": [
    {
     "data": {
      "text/plain": [
       "(1.4378650173094134e-08, 15.00798380439543)"
      ]
     },
     "execution_count": 7,
     "metadata": {},
     "output_type": "execute_result"
    }
   ],
   "source": [
    "min(ChiSq1), max(ChiSq1)"
   ]
  },
  {
   "cell_type": "code",
   "execution_count": 8,
   "metadata": {},
   "outputs": [],
   "source": [
    "# compare Zsquare against ChiSq distribution by taking a value and checking area to left\n",
    "vals = np.array([-1,0,1,2,3,4,5])"
   ]
  },
  {
   "cell_type": "code",
   "execution_count": 9,
   "metadata": {},
   "outputs": [
    {
     "name": "stdout",
     "output_type": "stream",
     "text": [
      "val:  -1  from chisq dist:  0.0 \t from Z square:  0.0\n",
      "val:  0  from chisq dist:  0.0 \t from Z square:  0.0\n",
      "val:  1  from chisq dist:  0.683 \t from Z square:  6.817\n",
      "val:  2  from chisq dist:  0.843 \t from Z square:  8.462\n",
      "val:  3  from chisq dist:  0.917 \t from Z square:  9.191\n",
      "val:  4  from chisq dist:  0.954 \t from Z square:  9.56\n",
      "val:  5  from chisq dist:  0.975 \t from Z square:  9.753\n"
     ]
    }
   ],
   "source": [
    "for i in vals:\n",
    "    print(\"val: \", i, \" from chisq dist: \",round(stats.chi2.cdf(i,df=1),3), \"\\t from Z square: \", np.sum(ChiSq1 < i)/1000)"
   ]
  },
  {
   "cell_type": "markdown",
   "metadata": {},
   "source": [
    "##### Chi Sq df = 2"
   ]
  },
  {
   "cell_type": "code",
   "execution_count": 10,
   "metadata": {},
   "outputs": [],
   "source": [
    "Z1 = np.random.normal(loc=0,scale=1,size = 10000)\n",
    "Z2 = np.random.normal(loc=0,scale=1,size = 10000)\n",
    "ChiSq2 = Z1**2 + Z2**2"
   ]
  },
  {
   "cell_type": "code",
   "execution_count": 11,
   "metadata": {},
   "outputs": [
    {
     "name": "stdout",
     "output_type": "stream",
     "text": [
      "val:  -1  from chisq dist:  0.0 \t from Z square:  0.0\n",
      "val:  0  from chisq dist:  0.0 \t from Z square:  0.0\n",
      "val:  1  from chisq dist:  0.393 \t from Z square:  3.924\n",
      "val:  2  from chisq dist:  0.632 \t from Z square:  6.391\n",
      "val:  3  from chisq dist:  0.777 \t from Z square:  7.85\n",
      "val:  4  from chisq dist:  0.865 \t from Z square:  8.69\n",
      "val:  5  from chisq dist:  0.918 \t from Z square:  9.207\n",
      "val:  10  from chisq dist:  0.993 \t from Z square:  9.938\n"
     ]
    }
   ],
   "source": [
    "# compare Zsquare against ChiSq distribution by taking a value and checking area to left\n",
    "vals = np.array([-1,0,1,2,3,4,5,10])\n",
    "for i in vals:\n",
    "    print(\"val: \", i, \" from chisq dist: \",round(stats.chi2.cdf(i,df=2),3), \"\\t from Z square: \", np.sum(ChiSq2 < i)/1000)"
   ]
  },
  {
   "cell_type": "markdown",
   "metadata": {},
   "source": [
    "##### Chisq df = 3 "
   ]
  },
  {
   "cell_type": "code",
   "execution_count": 12,
   "metadata": {},
   "outputs": [],
   "source": [
    "Z1 = np.random.normal(loc=0,scale=1,size = 10000)\n",
    "Z2 = np.random.normal(loc=0,scale=1,size = 10000)\n",
    "Z3 = np.random.normal(loc=0,scale=1,size = 10000)\n",
    "ChiSq3 = Z1**2 + Z2**2 + Z3**2"
   ]
  },
  {
   "cell_type": "code",
   "execution_count": 13,
   "metadata": {},
   "outputs": [
    {
     "name": "stdout",
     "output_type": "stream",
     "text": [
      "val:  -1  from chisq dist:  0.0 \t from Z square:  0.0\n",
      "val:  0  from chisq dist:  0.0 \t from Z square:  0.0\n",
      "val:  1  from chisq dist:  0.199 \t from Z square:  1.994\n",
      "val:  2  from chisq dist:  0.428 \t from Z square:  4.258\n",
      "val:  3  from chisq dist:  0.608 \t from Z square:  6.062\n",
      "val:  4  from chisq dist:  0.739 \t from Z square:  7.364\n",
      "val:  5  from chisq dist:  0.828 \t from Z square:  8.306\n"
     ]
    }
   ],
   "source": [
    "# compare Zsquare against ChiSq distribution by taking a value and checking area to left\n",
    "vals = np.array([-1,0,1,2,3,4,5])\n",
    "for i in vals:\n",
    "    print(\"val: \", i, \" from chisq dist: \",round(stats.chi2.cdf(i,df=3),3), \"\\t from Z square: \", np.sum(ChiSq3 < i)/1000)"
   ]
  },
  {
   "cell_type": "code",
   "execution_count": 45,
   "metadata": {},
   "outputs": [],
   "source": [
    "# compare using QQ plot\n",
    "\n",
    "# https://towardsdatascience.com/how-to-verify-the-distribution-of-data-using-q-q-plots-acdb7ca2d576"
   ]
  },
  {
   "cell_type": "code",
   "execution_count": 15,
   "metadata": {},
   "outputs": [],
   "source": [
    "# theoretical chi sq\n",
    "chisqdat = np.random.chisquare(df = 3, size = 10000)\n",
    "normdat = np.random.normal(size = 10000)"
   ]
  },
  {
   "cell_type": "code",
   "execution_count": 16,
   "metadata": {},
   "outputs": [
    {
     "data": {
      "text/plain": [
       "<matplotlib.collections.PathCollection at 0x15a41212a30>"
      ]
     },
     "execution_count": 16,
     "metadata": {},
     "output_type": "execute_result"
    },
    {
     "data": {
      "image/png": "[encoded data removed]",
      "text/plain": [
       "<Figure size 432x288 with 1 Axes>"
      ]
     },
     "metadata": {
      "needs_background": "light"
     },
     "output_type": "display_data"
    }
   ],
   "source": [
    "d1_100 = []\n",
    "for i in range(1,101):\n",
    "    d1_100.append(np.percentile(ChiSq3, i))\n",
    "    \n",
    "d2_100 = []\n",
    "for i in range(1,101):\n",
    "    d2_100.append(np.percentile(chisqdat, i))\n",
    "    \n",
    "d3_100 = []\n",
    "for i in range(1,101):\n",
    "    d3_100.append(np.percentile(normdat, i))\n",
    "\n",
    "plt.scatter(d1_100,d2_100)"
   ]
  },
  {
   "cell_type": "code",
   "execution_count": 17,
   "metadata": {},
   "outputs": [
    {
     "data": {
      "text/plain": [
       "<matplotlib.collections.PathCollection at 0x15a412781f0>"
      ]
     },
     "execution_count": 17,
     "metadata": {},
     "output_type": "execute_result"
    },
    {
     "data": {
      "image/png": "[encoded data removed]",
      "text/plain": [
       "<Figure size 432x288 with 1 Axes>"
      ]
     },
     "metadata": {
      "needs_background": "light"
     },
     "output_type": "display_data"
    }
   ],
   "source": [
    "plt.scatter(d1_100,d3_100)"
   ]
  },
  {
   "cell_type": "markdown",
   "metadata": {},
   "source": [
    "##### Mean and Variance of Chisq distributions\n",
    "\n",
    "Mean of Chi Sq distribution is same as its df\n",
    "\n",
    "Var of Chi Sq distribution is 2*df"
   ]
  },
  {
   "cell_type": "code",
   "execution_count": 18,
   "metadata": {},
   "outputs": [
    {
     "name": "stdout",
     "output_type": "stream",
     "text": [
      "df:1  mean=  0.9929299554624824 var=  1.9232688068440646\n",
      "df:2  mean=  1.9791024006036393 var=  3.9013913685654353\n",
      "df:3  mean=  2.9851729128967657 var=  5.7989042526764925\n"
     ]
    }
   ],
   "source": [
    "print(\"df:1 \", \"mean= \", np.mean(ChiSq1), \"var= \", np.var(ChiSq1))\n",
    "print(\"df:2 \", \"mean= \", np.mean(ChiSq2), \"var= \", np.var(ChiSq2))\n",
    "print(\"df:3 \", \"mean= \", np.mean(ChiSq3), \"var= \", np.var(ChiSq3))"
   ]
  },
  {
   "cell_type": "code",
   "execution_count": 19,
   "metadata": {},
   "outputs": [
    {
     "data": {
      "text/plain": [
       "(3.006696672778534, 6.04785968792446)"
      ]
     },
     "execution_count": 19,
     "metadata": {},
     "output_type": "execute_result"
    }
   ],
   "source": [
    "chisqdat = np.random.chisquare(df = 3, size = 10000)\n",
    "np.mean(chisqdat), np.var(chisqdat)"
   ]
  },
  {
   "cell_type": "markdown",
   "metadata": {},
   "source": [
    "##### chi sq distributions are right skewed, the skew reduces as df increases"
   ]
  },
  {
   "cell_type": "code",
   "execution_count": 20,
   "metadata": {},
   "outputs": [
    {
     "data": {
      "text/plain": [
       "(2.7105084993853152, 2.0583293368076823, 1.5893573739791569)"
      ]
     },
     "execution_count": 20,
     "metadata": {},
     "output_type": "execute_result"
    }
   ],
   "source": [
    "pd.Series(ChiSq1).skew(), pd.Series(ChiSq2).skew(), pd.Series(ChiSq3).skew()"
   ]
  },
  {
   "cell_type": "markdown",
   "metadata": {},
   "source": [
    "##### at df = 50 it is almost normal distribution"
   ]
  },
  {
   "cell_type": "code",
   "execution_count": 21,
   "metadata": {},
   "outputs": [
    {
     "name": "stdout",
     "output_type": "stream",
     "text": [
      "0.40224994723087887\n"
     ]
    },
    {
     "data": {
      "image/png": "[encoded data removed]",
      "text/plain": [
       "<Figure size 432x288 with 1 Axes>"
      ]
     },
     "metadata": {
      "needs_background": "light"
     },
     "output_type": "display_data"
    }
   ],
   "source": [
    "df=50\n",
    "ChiSq50 = pd.Series(stats.chi2.ppf(np.random.normal(size=10000),df=df))\n",
    "print(ChiSq50.skew())\n",
    "sns.distplot(ChiSq50);"
   ]
  },
  {
   "cell_type": "code",
   "execution_count": 22,
   "metadata": {},
   "outputs": [
    {
     "data": {
      "text/plain": [
       "ShapiroResult(statistic=nan, pvalue=1.0)"
      ]
     },
     "execution_count": 22,
     "metadata": {},
     "output_type": "execute_result"
    }
   ],
   "source": [
    "stats.shapiro(ChiSq50)"
   ]
  },
  {
   "cell_type": "markdown",
   "metadata": {},
   "source": [
    "### Basic fetches from Chi Sq distribution"
   ]
  },
  {
   "cell_type": "code",
   "execution_count": 55,
   "metadata": {},
   "outputs": [
    {
     "data": {
      "text/plain": [
       "0.94999937471524"
      ]
     },
     "execution_count": 55,
     "metadata": {},
     "output_type": "execute_result"
    }
   ],
   "source": [
    "stats.chi2.cdf(7.8147, df=3) # given chisq get area to left"
   ]
  },
  {
   "cell_type": "code",
   "execution_count": 56,
   "metadata": {},
   "outputs": [
    {
     "data": {
      "text/plain": [
       "7.814727903251179"
      ]
     },
     "execution_count": 56,
     "metadata": {},
     "output_type": "execute_result"
    }
   ],
   "source": [
    "stats.chi2.ppf(0.95,df=3) # given area to left get chisq"
   ]
  },
  {
   "cell_type": "code",
   "execution_count": 78,
   "metadata": {},
   "outputs": [
    {
     "data": {
      "text/plain": [
       "7.814727903251178"
      ]
     },
     "execution_count": 78,
     "metadata": {},
     "output_type": "execute_result"
    }
   ],
   "source": [
    "stats.chi2.isf(0.05,df=3) # given area to right get chisq"
   ]
  },
  {
   "cell_type": "code",
   "execution_count": 81,
   "metadata": {},
   "outputs": [
    {
     "data": {
      "text/plain": [
       "0.050000625284760056"
      ]
     },
     "execution_count": 81,
     "metadata": {},
     "output_type": "execute_result"
    }
   ],
   "source": [
    "stats.chi2.sf(7.8147,df=3) # given chisq get area to right"
   ]
  },
  {
   "cell_type": "code",
   "execution_count": 57,
   "metadata": {},
   "outputs": [
    {
     "data": {
      "text/plain": [
       "(1.689869180677355, 16.012764274629326)"
      ]
     },
     "execution_count": 57,
     "metadata": {},
     "output_type": "execute_result"
    }
   ],
   "source": [
    "# Sample code to set up critical values\n",
    "df = 7\n",
    "stats.chi2.ppf(0.025,df), stats.chi2.ppf(0.975,df)"
   ]
  }
 ],
 "metadata": {
  "kernelspec": {
   "display_name": "Python 3",
   "language": "python",
   "name": "python3"
  },
  "language_info": {
   "codemirror_mode": {
    "name": "ipython",
    "version": 3
   },
   "file_extension": ".py",
   "mimetype": "text/x-python",
   "name": "python",
   "nbconvert_exporter": "python",
   "pygments_lexer": "ipython3",
   "version": "3.8.5"
  }
 },
 "nbformat": 4,
 "nbformat_minor": 5
}
