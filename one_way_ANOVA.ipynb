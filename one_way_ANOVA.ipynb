{
 "cells": [
  {
   "cell_type": "code",
   "execution_count": 1,
   "metadata": {},
   "outputs": [],
   "source": [
    "import numpy       as np\n",
    "import pandas      as pd\n",
    "import scipy.stats as stats\n",
    "import statsmodels.api         as     sm\n",
    "from   statsmodels.formula.api import ols"
   ]
  },
  {
   "cell_type": "markdown",
   "metadata": {},
   "source": [
    "#### example 1"
   ]
  },
  {
   "cell_type": "code",
   "execution_count": 2,
   "metadata": {},
   "outputs": [],
   "source": [
    "sectionA = np.array([1,2,3])\n",
    "sectionB = np.array([2,3,5,4,7])\n",
    "sectionC = np.array([6,8,10,9]) "
   ]
  },
  {
   "cell_type": "code",
   "execution_count": 3,
   "metadata": {},
   "outputs": [
    {
     "data": {
      "text/plain": [
       "ShapiroResult(statistic=0.9713736176490784, pvalue=0.8499705791473389)"
      ]
     },
     "execution_count": 3,
     "metadata": {},
     "output_type": "execute_result"
    }
   ],
   "source": [
    "# normality tests\n",
    "stats.shapiro(sectionA)\n",
    "stats.shapiro(sectionB)\n",
    "stats.shapiro(sectionC)"
   ]
  },
  {
   "cell_type": "code",
   "execution_count": 4,
   "metadata": {},
   "outputs": [
    {
     "data": {
      "text/plain": [
       "LeveneResult(statistic=0.5483558994197292, pvalue=0.5960483263976416)"
      ]
     },
     "execution_count": 4,
     "metadata": {},
     "output_type": "execute_result"
    }
   ],
   "source": [
    "# variance equality test\n",
    "stats.levene(sectionA, sectionB, sectionC)"
   ]
  },
  {
   "cell_type": "code",
   "execution_count": 5,
   "metadata": {},
   "outputs": [
    {
     "name": "stdout",
     "output_type": "stream",
     "text": [
      "12.760273972602741\n",
      "0.0023590748981715767\n"
     ]
    }
   ],
   "source": [
    "# one way ANOVA\n",
    "f_test, p_val = stats.f_oneway(sectionA, sectionB, sectionC)\n",
    "print(f_test)\n",
    "print(p_val)"
   ]
  },
  {
   "cell_type": "code",
   "execution_count": 6,
   "metadata": {},
   "outputs": [],
   "source": [
    "# one way ANOVA using statsmodels OLS\n",
    "marks_df = pd.DataFrame()"
   ]
  },
  {
   "cell_type": "code",
   "execution_count": 8,
   "metadata": {},
   "outputs": [],
   "source": [
    "df1= pd.DataFrame({'section': 'A', 'marks':sectionA})\n",
    "df2= pd.DataFrame({'section': 'B', 'marks':sectionB})\n",
    "df3= pd.DataFrame({'section': 'C', 'marks':sectionC})"
   ]
  },
  {
   "cell_type": "code",
   "execution_count": 9,
   "metadata": {},
   "outputs": [],
   "source": [
    "marks_df = marks_df.append(df1) \n",
    "marks_df = marks_df.append(df2) \n",
    "marks_df = marks_df.append(df3) "
   ]
  },
  {
   "cell_type": "code",
   "execution_count": 10,
   "metadata": {},
   "outputs": [
    {
     "data": {
      "text/plain": [
       "(12, 2)"
      ]
     },
     "execution_count": 10,
     "metadata": {},
     "output_type": "execute_result"
    }
   ],
   "source": [
    "marks_df.head()\n",
    "marks_df.shape"
   ]
  },
  {
   "cell_type": "code",
   "execution_count": 11,
   "metadata": {},
   "outputs": [
    {
     "name": "stdout",
     "output_type": "stream",
     "text": [
      "          sum_sq   df          F    PR(>F)\n",
      "section    72.45  2.0  12.760274  0.002359\n",
      "Residual   25.55  9.0        NaN       NaN\n"
     ]
    }
   ],
   "source": [
    "mod = ols('marks ~ section', data = marks_df).fit()\n",
    "aov_table = sm.stats.anova_lm(mod, typ=2)\n",
    "print(aov_table)"
   ]
  },
  {
   "cell_type": "code",
   "execution_count": 12,
   "metadata": {},
   "outputs": [
    {
     "name": "stdout",
     "output_type": "stream",
     "text": [
      "F critical value for 2 and 9 df with .95 confidence 4.26\n"
     ]
    }
   ],
   "source": [
    "crit = stats.f.ppf(q = 1-0.05, dfn = 2, dfd = 9)\n",
    "print('F critical value for 2 and 9 df with .95 confidence %3.2f' %crit)"
   ]
  },
  {
   "cell_type": "code",
   "execution_count": 13,
   "metadata": {},
   "outputs": [
    {
     "name": "stdout",
     "output_type": "stream",
     "text": [
      "P value for 2 and 9 df with .95 confidence for the calculated F value 0.00236\n"
     ]
    }
   ],
   "source": [
    "p_value = 1 -stats.f.cdf(12.760274, dfn = 2, dfd = 9)\n",
    "print('P value for 2 and 9 df with .95 confidence for the calculated F value %3.5f' % p_value)"
   ]
  },
  {
   "cell_type": "markdown",
   "metadata": {},
   "source": [
    "#### example 2"
   ]
  },
  {
   "cell_type": "code",
   "execution_count": 19,
   "metadata": {},
   "outputs": [],
   "source": [
    "sectionA = np.array([5,4,6,7,2])\n",
    "sectionB = np.array([9,0,1,2])\n",
    "sectionC = np.array([1,5,9]) "
   ]
  },
  {
   "cell_type": "code",
   "execution_count": 20,
   "metadata": {},
   "outputs": [
    {
     "name": "stdout",
     "output_type": "stream",
     "text": [
      "0.4393078512396694\n",
      "0.6575955772545194\n"
     ]
    }
   ],
   "source": [
    "# one way ANOVA\n",
    "f_test, p_val = stats.f_oneway(sectionA, sectionB, sectionC)\n",
    "print(f_test)\n",
    "print(p_val)"
   ]
  },
  {
   "cell_type": "code",
   "execution_count": 21,
   "metadata": {},
   "outputs": [],
   "source": [
    "# one way ANOVA using statsmodels OLS\n",
    "marks_df = pd.DataFrame()"
   ]
  },
  {
   "cell_type": "code",
   "execution_count": 22,
   "metadata": {},
   "outputs": [],
   "source": [
    "df1= pd.DataFrame({'section': 'A', 'marks':sectionA})\n",
    "df2= pd.DataFrame({'section': 'B', 'marks':sectionB})\n",
    "df3= pd.DataFrame({'section': 'C', 'marks':sectionC})"
   ]
  },
  {
   "cell_type": "code",
   "execution_count": 23,
   "metadata": {},
   "outputs": [],
   "source": [
    "marks_df = marks_df.append(df1) \n",
    "marks_df = marks_df.append(df2) \n",
    "marks_df = marks_df.append(df3) "
   ]
  },
  {
   "cell_type": "code",
   "execution_count": 25,
   "metadata": {},
   "outputs": [],
   "source": [
    "# if data was in a CSV file like marks.csv we could have directly read it and gone to next step\n",
    "# it will have two colums, section and marks"
   ]
  },
  {
   "cell_type": "code",
   "execution_count": 24,
   "metadata": {},
   "outputs": [
    {
     "name": "stdout",
     "output_type": "stream",
     "text": [
      "          sum_sq   df         F    PR(>F)\n",
      "section     9.45  2.0  0.439308  0.657596\n",
      "Residual   96.80  9.0       NaN       NaN\n"
     ]
    }
   ],
   "source": [
    "mod = ols('marks ~ section', data = marks_df).fit()\n",
    "aov_table = sm.stats.anova_lm(mod, typ=2)\n",
    "print(aov_table)"
   ]
  },
  {
   "cell_type": "code",
   "execution_count": null,
   "metadata": {},
   "outputs": [],
   "source": []
  }
 ],
 "metadata": {
  "kernelspec": {
   "display_name": "Python 3",
   "language": "python",
   "name": "python3"
  },
  "language_info": {
   "codemirror_mode": {
    "name": "ipython",
    "version": 3
   },
   "file_extension": ".py",
   "mimetype": "text/x-python",
   "name": "python",
   "nbconvert_exporter": "python",
   "pygments_lexer": "ipython3",
   "version": "3.8.5"
  }
 },
 "nbformat": 4,
 "nbformat_minor": 2
}
