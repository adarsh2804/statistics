{
 "cells": [
  {
   "cell_type": "code",
   "execution_count": 50,
   "metadata": {},
   "outputs": [],
   "source": [
    "import warnings\n",
    "warnings.filterwarnings(\"ignore\")"
   ]
  },
  {
   "cell_type": "code",
   "execution_count": 71,
   "metadata": {},
   "outputs": [],
   "source": [
    "import numpy as np\n",
    "from sklearn.discriminant_analysis import LinearDiscriminantAnalysis\n",
    "import pandas as pd"
   ]
  },
  {
   "cell_type": "code",
   "execution_count": 72,
   "metadata": {},
   "outputs": [
    {
     "data": {
      "text/html": [
       "<div>\n",
       "<style scoped>\n",
       "    .dataframe tbody tr th:only-of-type {\n",
       "        vertical-align: middle;\n",
       "    }\n",
       "\n",
       "    .dataframe tbody tr th {\n",
       "        vertical-align: top;\n",
       "    }\n",
       "\n",
       "    .dataframe thead th {\n",
       "        text-align: right;\n",
       "    }\n",
       "</style>\n",
       "<table border=\"1\" class=\"dataframe\">\n",
       "  <thead>\n",
       "    <tr style=\"text-align: right;\">\n",
       "      <th></th>\n",
       "      <th>X1</th>\n",
       "      <th>X2</th>\n",
       "      <th>y</th>\n",
       "    </tr>\n",
       "  </thead>\n",
       "  <tbody>\n",
       "    <tr>\n",
       "      <th>0</th>\n",
       "      <td>1</td>\n",
       "      <td>2</td>\n",
       "      <td>1</td>\n",
       "    </tr>\n",
       "    <tr>\n",
       "      <th>1</th>\n",
       "      <td>2</td>\n",
       "      <td>1</td>\n",
       "      <td>1</td>\n",
       "    </tr>\n",
       "    <tr>\n",
       "      <th>2</th>\n",
       "      <td>1</td>\n",
       "      <td>1</td>\n",
       "      <td>1</td>\n",
       "    </tr>\n",
       "    <tr>\n",
       "      <th>3</th>\n",
       "      <td>3</td>\n",
       "      <td>4</td>\n",
       "      <td>1</td>\n",
       "    </tr>\n",
       "    <tr>\n",
       "      <th>4</th>\n",
       "      <td>4</td>\n",
       "      <td>3</td>\n",
       "      <td>2</td>\n",
       "    </tr>\n",
       "    <tr>\n",
       "      <th>5</th>\n",
       "      <td>4</td>\n",
       "      <td>4</td>\n",
       "      <td>2</td>\n",
       "    </tr>\n",
       "    <tr>\n",
       "      <th>6</th>\n",
       "      <td>1</td>\n",
       "      <td>5</td>\n",
       "      <td>2</td>\n",
       "    </tr>\n",
       "  </tbody>\n",
       "</table>\n",
       "</div>"
      ],
      "text/plain": [
       "   X1  X2  y\n",
       "0   1   2  1\n",
       "1   2   1  1\n",
       "2   1   1  1\n",
       "3   3   4  1\n",
       "4   4   3  2\n",
       "5   4   4  2\n",
       "6   1   5  2"
      ]
     },
     "execution_count": 72,
     "metadata": {},
     "output_type": "execute_result"
    }
   ],
   "source": [
    "df = pd.read_excel(\"demo_LDA_working.xlsx\", names=['X1','X2','y'], sheet_name='Sheet1')\n",
    "df"
   ]
  },
  {
   "cell_type": "code",
   "execution_count": 73,
   "metadata": {},
   "outputs": [],
   "source": [
    "m1 = df[df.y==1][['X1','X2']].mean()\n",
    "n1 = df[df.y==1].shape[0]\n",
    "m2 = df[df.y==2][['X1','X2']].mean()\n",
    "n2 = df[df.y==2].shape[0]\n",
    "m = df[['X1','X2']].mean()\n",
    "n = df.shape[0]"
   ]
  },
  {
   "cell_type": "code",
   "execution_count": 74,
   "metadata": {},
   "outputs": [],
   "source": [
    "prior1 = n1/n # prior for class 1\n",
    "prior2 = n2/n # prior for class 2"
   ]
  },
  {
   "cell_type": "code",
   "execution_count": 75,
   "metadata": {},
   "outputs": [],
   "source": [
    "# compute centered feature data\n",
    "df['X1c'] = np.zeros(df.shape[0])\n",
    "df['X2c'] = np.zeros(df.shape[0])"
   ]
  },
  {
   "cell_type": "code",
   "execution_count": 76,
   "metadata": {},
   "outputs": [],
   "source": [
    "for i in np.arange(df.shape[0]):\n",
    "    if df.y[i] == 1:\n",
    "        df.loc[i,['X1c','X2c']] = list(df.loc[i,['X1','X2']] - m1)\n",
    "    else:\n",
    "        df.loc[i,['X1c','X2c']] = list(df.loc[i,['X1','X2']] - m2)"
   ]
  },
  {
   "cell_type": "code",
   "execution_count": 77,
   "metadata": {},
   "outputs": [
    {
     "data": {
      "text/plain": [
       "matrix([[ 1.75000000e+00, -5.55111512e-17],\n",
       "        [ 5.55111512e-17,  1.60000000e+00]])"
      ]
     },
     "execution_count": 77,
     "metadata": {},
     "output_type": "execute_result"
    }
   ],
   "source": [
    "k = 2 # features\n",
    "C = 1/(n-k) * np.matrix(df[['X1c','X2c']]).T @ np.matrix(df[['X1c','X2c']])\n",
    "C"
   ]
  },
  {
   "cell_type": "code",
   "execution_count": 78,
   "metadata": {},
   "outputs": [
    {
     "data": {
      "text/plain": [
       "matrix([[ 5.71428571e-01,  1.98254112e-17],\n",
       "        [-1.98254112e-17,  6.25000000e-01]])"
      ]
     },
     "execution_count": 78,
     "metadata": {},
     "output_type": "execute_result"
    }
   ],
   "source": [
    "InvC = C.I\n",
    "InvC"
   ]
  },
  {
   "cell_type": "code",
   "execution_count": 79,
   "metadata": {},
   "outputs": [
    {
     "data": {
      "text/plain": [
       "0.0951132706502103"
      ]
     },
     "execution_count": 79,
     "metadata": {},
     "output_type": "execute_result"
    }
   ],
   "source": [
    "# computation of likelihood for each class for each row\n",
    "term1 = 1/(2*np.pi * np.sqrt(np.linalg.det(C)))\n",
    "term1"
   ]
  },
  {
   "cell_type": "code",
   "execution_count": 80,
   "metadata": {},
   "outputs": [],
   "source": [
    "# for class 1\n",
    "df['f1'] = np.zeros(df.shape[0])"
   ]
  },
  {
   "cell_type": "code",
   "execution_count": 81,
   "metadata": {},
   "outputs": [],
   "source": [
    "# for class 1\n",
    "df['f1'] = np.zeros(df.shape[0])\n",
    "for i in np.arange(df.shape[0]):\n",
    "    df.loc[i,['X1c','X2c']] = list(df.loc[i,['X1','X2']] - m1)\n",
    "    df.f1[i]=term1 * np.exp(-0.5*(np.matrix(df.loc[i,['X1c','X2c']]) @ InvC) @ np.matrix(df.loc[i,['X1c','X2c']]).T)"
   ]
  },
  {
   "cell_type": "code",
   "execution_count": 82,
   "metadata": {},
   "outputs": [
    {
     "data": {
      "text/html": [
       "<div>\n",
       "<style scoped>\n",
       "    .dataframe tbody tr th:only-of-type {\n",
       "        vertical-align: middle;\n",
       "    }\n",
       "\n",
       "    .dataframe tbody tr th {\n",
       "        vertical-align: top;\n",
       "    }\n",
       "\n",
       "    .dataframe thead th {\n",
       "        text-align: right;\n",
       "    }\n",
       "</style>\n",
       "<table border=\"1\" class=\"dataframe\">\n",
       "  <thead>\n",
       "    <tr style=\"text-align: right;\">\n",
       "      <th></th>\n",
       "      <th>X1</th>\n",
       "      <th>X2</th>\n",
       "      <th>y</th>\n",
       "      <th>X1c</th>\n",
       "      <th>X2c</th>\n",
       "      <th>f1</th>\n",
       "      <th>f2</th>\n",
       "    </tr>\n",
       "  </thead>\n",
       "  <tbody>\n",
       "    <tr>\n",
       "      <th>0</th>\n",
       "      <td>1</td>\n",
       "      <td>2</td>\n",
       "      <td>1</td>\n",
       "      <td>-2.0</td>\n",
       "      <td>-2.0</td>\n",
       "      <td>0.080992</td>\n",
       "      <td>0.008690</td>\n",
       "    </tr>\n",
       "    <tr>\n",
       "      <th>1</th>\n",
       "      <td>2</td>\n",
       "      <td>1</td>\n",
       "      <td>1</td>\n",
       "      <td>-1.0</td>\n",
       "      <td>-3.0</td>\n",
       "      <td>0.068355</td>\n",
       "      <td>0.004292</td>\n",
       "    </tr>\n",
       "    <tr>\n",
       "      <th>2</th>\n",
       "      <td>1</td>\n",
       "      <td>1</td>\n",
       "      <td>1</td>\n",
       "      <td>-2.0</td>\n",
       "      <td>-3.0</td>\n",
       "      <td>0.059255</td>\n",
       "      <td>0.001822</td>\n",
       "    </tr>\n",
       "    <tr>\n",
       "      <th>3</th>\n",
       "      <td>3</td>\n",
       "      <td>4</td>\n",
       "      <td>1</td>\n",
       "      <td>0.0</td>\n",
       "      <td>0.0</td>\n",
       "      <td>0.017438</td>\n",
       "      <td>0.095113</td>\n",
       "    </tr>\n",
       "    <tr>\n",
       "      <th>4</th>\n",
       "      <td>4</td>\n",
       "      <td>3</td>\n",
       "      <td>2</td>\n",
       "      <td>1.0</td>\n",
       "      <td>-1.0</td>\n",
       "      <td>0.016381</td>\n",
       "      <td>0.052293</td>\n",
       "    </tr>\n",
       "    <tr>\n",
       "      <th>5</th>\n",
       "      <td>4</td>\n",
       "      <td>4</td>\n",
       "      <td>2</td>\n",
       "      <td>1.0</td>\n",
       "      <td>0.0</td>\n",
       "      <td>0.006415</td>\n",
       "      <td>0.071475</td>\n",
       "    </tr>\n",
       "    <tr>\n",
       "      <th>6</th>\n",
       "      <td>1</td>\n",
       "      <td>5</td>\n",
       "      <td>2</td>\n",
       "      <td>-2.0</td>\n",
       "      <td>1.0</td>\n",
       "      <td>0.004864</td>\n",
       "      <td>0.022192</td>\n",
       "    </tr>\n",
       "  </tbody>\n",
       "</table>\n",
       "</div>"
      ],
      "text/plain": [
       "   X1  X2  y  X1c  X2c        f1        f2\n",
       "0   1   2  1 -2.0 -2.0  0.080992  0.008690\n",
       "1   2   1  1 -1.0 -3.0  0.068355  0.004292\n",
       "2   1   1  1 -2.0 -3.0  0.059255  0.001822\n",
       "3   3   4  1  0.0  0.0  0.017438  0.095113\n",
       "4   4   3  2  1.0 -1.0  0.016381  0.052293\n",
       "5   4   4  2  1.0  0.0  0.006415  0.071475\n",
       "6   1   5  2 -2.0  1.0  0.004864  0.022192"
      ]
     },
     "execution_count": 82,
     "metadata": {},
     "output_type": "execute_result"
    }
   ],
   "source": [
    "# for class 2\n",
    "df['f2'] = np.zeros(df.shape[0])\n",
    "for i in np.arange(df.shape[0]):\n",
    "    df.loc[i,['X1c','X2c']] = list(df.loc[i,['X1','X2']] - m2)\n",
    "    df.f2[i]=term1 * np.exp(-0.5*(np.matrix(df.loc[i,['X1c','X2c']]) @ InvC) @ np.matrix(df.loc[i,['X1c','X2c']]).T)\n",
    "df"
   ]
  },
  {
   "cell_type": "code",
   "execution_count": 83,
   "metadata": {},
   "outputs": [],
   "source": [
    "# computation of the Bayes Theorem numerator for each class in each row\n",
    "df['p1f1'] = prior1*df['f1']\n",
    "df['p2f2'] = prior2*df['f2']"
   ]
  },
  {
   "cell_type": "code",
   "execution_count": 84,
   "metadata": {},
   "outputs": [
    {
     "data": {
      "text/html": [
       "<div>\n",
       "<style scoped>\n",
       "    .dataframe tbody tr th:only-of-type {\n",
       "        vertical-align: middle;\n",
       "    }\n",
       "\n",
       "    .dataframe tbody tr th {\n",
       "        vertical-align: top;\n",
       "    }\n",
       "\n",
       "    .dataframe thead th {\n",
       "        text-align: right;\n",
       "    }\n",
       "</style>\n",
       "<table border=\"1\" class=\"dataframe\">\n",
       "  <thead>\n",
       "    <tr style=\"text-align: right;\">\n",
       "      <th></th>\n",
       "      <th>X1</th>\n",
       "      <th>X2</th>\n",
       "      <th>y</th>\n",
       "      <th>X1c</th>\n",
       "      <th>X2c</th>\n",
       "      <th>f1</th>\n",
       "      <th>f2</th>\n",
       "      <th>p1f1</th>\n",
       "      <th>p2f2</th>\n",
       "      <th>postr_class1</th>\n",
       "      <th>postr_class2</th>\n",
       "    </tr>\n",
       "  </thead>\n",
       "  <tbody>\n",
       "    <tr>\n",
       "      <th>0</th>\n",
       "      <td>1</td>\n",
       "      <td>2</td>\n",
       "      <td>1</td>\n",
       "      <td>-2.0</td>\n",
       "      <td>-2.0</td>\n",
       "      <td>0.080992</td>\n",
       "      <td>0.008690</td>\n",
       "      <td>0.046281</td>\n",
       "      <td>0.003724</td>\n",
       "      <td>0.925520</td>\n",
       "      <td>0.074480</td>\n",
       "    </tr>\n",
       "    <tr>\n",
       "      <th>1</th>\n",
       "      <td>2</td>\n",
       "      <td>1</td>\n",
       "      <td>1</td>\n",
       "      <td>-1.0</td>\n",
       "      <td>-3.0</td>\n",
       "      <td>0.068355</td>\n",
       "      <td>0.004292</td>\n",
       "      <td>0.039060</td>\n",
       "      <td>0.001840</td>\n",
       "      <td>0.955021</td>\n",
       "      <td>0.044979</td>\n",
       "    </tr>\n",
       "    <tr>\n",
       "      <th>2</th>\n",
       "      <td>1</td>\n",
       "      <td>1</td>\n",
       "      <td>1</td>\n",
       "      <td>-2.0</td>\n",
       "      <td>-3.0</td>\n",
       "      <td>0.059255</td>\n",
       "      <td>0.001822</td>\n",
       "      <td>0.033860</td>\n",
       "      <td>0.000781</td>\n",
       "      <td>0.977464</td>\n",
       "      <td>0.022536</td>\n",
       "    </tr>\n",
       "    <tr>\n",
       "      <th>3</th>\n",
       "      <td>3</td>\n",
       "      <td>4</td>\n",
       "      <td>1</td>\n",
       "      <td>0.0</td>\n",
       "      <td>0.0</td>\n",
       "      <td>0.017438</td>\n",
       "      <td>0.095113</td>\n",
       "      <td>0.009964</td>\n",
       "      <td>0.040763</td>\n",
       "      <td>0.196432</td>\n",
       "      <td>0.803568</td>\n",
       "    </tr>\n",
       "    <tr>\n",
       "      <th>4</th>\n",
       "      <td>4</td>\n",
       "      <td>3</td>\n",
       "      <td>2</td>\n",
       "      <td>1.0</td>\n",
       "      <td>-1.0</td>\n",
       "      <td>0.016381</td>\n",
       "      <td>0.052293</td>\n",
       "      <td>0.009361</td>\n",
       "      <td>0.022411</td>\n",
       "      <td>0.294624</td>\n",
       "      <td>0.705376</td>\n",
       "    </tr>\n",
       "    <tr>\n",
       "      <th>5</th>\n",
       "      <td>4</td>\n",
       "      <td>4</td>\n",
       "      <td>2</td>\n",
       "      <td>1.0</td>\n",
       "      <td>0.0</td>\n",
       "      <td>0.006415</td>\n",
       "      <td>0.071475</td>\n",
       "      <td>0.003666</td>\n",
       "      <td>0.030632</td>\n",
       "      <td>0.106878</td>\n",
       "      <td>0.893122</td>\n",
       "    </tr>\n",
       "    <tr>\n",
       "      <th>6</th>\n",
       "      <td>1</td>\n",
       "      <td>5</td>\n",
       "      <td>2</td>\n",
       "      <td>-2.0</td>\n",
       "      <td>1.0</td>\n",
       "      <td>0.004864</td>\n",
       "      <td>0.022192</td>\n",
       "      <td>0.002779</td>\n",
       "      <td>0.009511</td>\n",
       "      <td>0.226151</td>\n",
       "      <td>0.773849</td>\n",
       "    </tr>\n",
       "  </tbody>\n",
       "</table>\n",
       "</div>"
      ],
      "text/plain": [
       "   X1  X2  y  X1c  X2c        f1        f2      p1f1      p2f2  postr_class1  \\\n",
       "0   1   2  1 -2.0 -2.0  0.080992  0.008690  0.046281  0.003724      0.925520   \n",
       "1   2   1  1 -1.0 -3.0  0.068355  0.004292  0.039060  0.001840      0.955021   \n",
       "2   1   1  1 -2.0 -3.0  0.059255  0.001822  0.033860  0.000781      0.977464   \n",
       "3   3   4  1  0.0  0.0  0.017438  0.095113  0.009964  0.040763      0.196432   \n",
       "4   4   3  2  1.0 -1.0  0.016381  0.052293  0.009361  0.022411      0.294624   \n",
       "5   4   4  2  1.0  0.0  0.006415  0.071475  0.003666  0.030632      0.106878   \n",
       "6   1   5  2 -2.0  1.0  0.004864  0.022192  0.002779  0.009511      0.226151   \n",
       "\n",
       "   postr_class2  \n",
       "0      0.074480  \n",
       "1      0.044979  \n",
       "2      0.022536  \n",
       "3      0.803568  \n",
       "4      0.705376  \n",
       "5      0.893122  \n",
       "6      0.773849  "
      ]
     },
     "execution_count": 84,
     "metadata": {},
     "output_type": "execute_result"
    }
   ],
   "source": [
    "# compute posterior probability for each row, each class\n",
    "df['postr_class1'] = df['p1f1'] / (df['p1f1'] + df['p2f2'])\n",
    "df['postr_class2'] = df['p2f2'] / (df['p1f1'] + df['p2f2'])\n",
    "df"
   ]
  },
  {
   "cell_type": "code",
   "execution_count": 85,
   "metadata": {},
   "outputs": [],
   "source": [
    "# verification\n",
    "X = df[['X1','X2']]\n",
    "y = df['y']"
   ]
  },
  {
   "cell_type": "code",
   "execution_count": 86,
   "metadata": {},
   "outputs": [
    {
     "data": {
      "text/plain": [
       "array([1, 1, 1, 2, 2, 2, 2], dtype=int64)"
      ]
     },
     "execution_count": 86,
     "metadata": {},
     "output_type": "execute_result"
    }
   ],
   "source": [
    "clf = LinearDiscriminantAnalysis()\n",
    "clf.fit(X, y)\n",
    "clf.predict(X)"
   ]
  },
  {
   "cell_type": "code",
   "execution_count": 87,
   "metadata": {},
   "outputs": [
    {
     "data": {
      "text/plain": [
       "array([[0.92551999, 0.07448001],\n",
       "       [0.95502107, 0.04497893],\n",
       "       [0.9774635 , 0.0225365 ],\n",
       "       [0.19643184, 0.80356816],\n",
       "       [0.29462375, 0.70537625],\n",
       "       [0.10687828, 0.89312172],\n",
       "       [0.22615079, 0.77384921]])"
      ]
     },
     "execution_count": 87,
     "metadata": {},
     "output_type": "execute_result"
    }
   ],
   "source": [
    "clf.predict_proba(X)"
   ]
  },
  {
   "cell_type": "code",
   "execution_count": 88,
   "metadata": {},
   "outputs": [
    {
     "data": {
      "text/html": [
       "<div>\n",
       "<style scoped>\n",
       "    .dataframe tbody tr th:only-of-type {\n",
       "        vertical-align: middle;\n",
       "    }\n",
       "\n",
       "    .dataframe tbody tr th {\n",
       "        vertical-align: top;\n",
       "    }\n",
       "\n",
       "    .dataframe thead th {\n",
       "        text-align: right;\n",
       "    }\n",
       "</style>\n",
       "<table border=\"1\" class=\"dataframe\">\n",
       "  <thead>\n",
       "    <tr style=\"text-align: right;\">\n",
       "      <th></th>\n",
       "      <th>postr_class1</th>\n",
       "      <th>postr_class2</th>\n",
       "    </tr>\n",
       "  </thead>\n",
       "  <tbody>\n",
       "    <tr>\n",
       "      <th>0</th>\n",
       "      <td>0.925520</td>\n",
       "      <td>0.074480</td>\n",
       "    </tr>\n",
       "    <tr>\n",
       "      <th>1</th>\n",
       "      <td>0.955021</td>\n",
       "      <td>0.044979</td>\n",
       "    </tr>\n",
       "    <tr>\n",
       "      <th>2</th>\n",
       "      <td>0.977464</td>\n",
       "      <td>0.022536</td>\n",
       "    </tr>\n",
       "    <tr>\n",
       "      <th>3</th>\n",
       "      <td>0.196432</td>\n",
       "      <td>0.803568</td>\n",
       "    </tr>\n",
       "    <tr>\n",
       "      <th>4</th>\n",
       "      <td>0.294624</td>\n",
       "      <td>0.705376</td>\n",
       "    </tr>\n",
       "    <tr>\n",
       "      <th>5</th>\n",
       "      <td>0.106878</td>\n",
       "      <td>0.893122</td>\n",
       "    </tr>\n",
       "    <tr>\n",
       "      <th>6</th>\n",
       "      <td>0.226151</td>\n",
       "      <td>0.773849</td>\n",
       "    </tr>\n",
       "  </tbody>\n",
       "</table>\n",
       "</div>"
      ],
      "text/plain": [
       "   postr_class1  postr_class2\n",
       "0      0.925520      0.074480\n",
       "1      0.955021      0.044979\n",
       "2      0.977464      0.022536\n",
       "3      0.196432      0.803568\n",
       "4      0.294624      0.705376\n",
       "5      0.106878      0.893122\n",
       "6      0.226151      0.773849"
      ]
     },
     "execution_count": 88,
     "metadata": {},
     "output_type": "execute_result"
    }
   ],
   "source": [
    "df[['postr_class1',  'postr_class2']]"
   ]
  },
  {
   "cell_type": "code",
   "execution_count": 89,
   "metadata": {},
   "outputs": [
    {
     "data": {
      "text/plain": [
       "array([-2.51982493, -3.05553922, -3.76982493,  1.4087465 ,  0.87303221,\n",
       "        2.12303221,  1.23017507])"
      ]
     },
     "execution_count": 89,
     "metadata": {},
     "output_type": "execute_result"
    }
   ],
   "source": [
    "# log p(y = 1 | x) - log p(y = 0 | x)\n",
    "clf.decision_function(X)"
   ]
  },
  {
   "cell_type": "code",
   "execution_count": 90,
   "metadata": {},
   "outputs": [
    {
     "data": {
      "text/plain": [
       "0   -2.519825\n",
       "1   -3.055539\n",
       "2   -3.769825\n",
       "3    1.408746\n",
       "4    0.873032\n",
       "5    2.123032\n",
       "6    1.230175\n",
       "dtype: float64"
      ]
     },
     "execution_count": 90,
     "metadata": {},
     "output_type": "execute_result"
    }
   ],
   "source": [
    "np.log(df.postr_class2) - np.log(df.postr_class1)"
   ]
  }
 ],
 "metadata": {
  "kernelspec": {
   "display_name": "Python 3",
   "language": "python",
   "name": "python3"
  },
  "language_info": {
   "codemirror_mode": {
    "name": "ipython",
    "version": 3
   },
   "file_extension": ".py",
   "mimetype": "text/x-python",
   "name": "python",
   "nbconvert_exporter": "python",
   "pygments_lexer": "ipython3",
   "version": "3.8.8"
  }
 },
 "nbformat": 4,
 "nbformat_minor": 2
}
