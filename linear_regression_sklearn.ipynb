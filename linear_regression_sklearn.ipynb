{
 "cells": [
  {
   "cell_type": "code",
   "execution_count": null,
   "id": "miniature-combination",
   "metadata": {},
   "outputs": [],
   "source": [
    "# import libraries\n",
    "import numpy as np\n",
    "import pandas as pd\n",
    "import matplotlib.pyplot as plt\n",
    "from sklearn.linear_model import LinearRegression\n",
    "from sklearn.metrics import mean_squared_error, r2_score"
   ]
  },
  {
   "cell_type": "code",
   "execution_count": null,
   "id": "latin-dubai",
   "metadata": {},
   "outputs": [],
   "source": [
    "## X usually means our input variables (or independent variables)\n",
    "X = pd.DataFrame([1,2,3,4,5])\n",
    "## Y usually means our output/dependent variable\n",
    "y = pd.Series([2,3,5,8,11])# convert this dataset into a Pandas Dataframe"
   ]
  },
  {
   "cell_type": "code",
   "execution_count": null,
   "id": "vertical-legislature",
   "metadata": {},
   "outputs": [],
   "source": [
    "# instantiate\n",
    "lm = LinearRegression()\n",
    "# fit model to the data\n",
    "lm.fit(X,y)"
   ]
  },
  {
   "cell_type": "code",
   "execution_count": 3,
   "id": "valued-acrylic",
   "metadata": {},
   "outputs": [
    {
     "name": "stdout",
     "output_type": "stream",
     "text": [
      "intercept is:  -1.0999999999999996\n",
      "coefficient is:  [2.3]\n"
     ]
    }
   ],
   "source": [
    "print(\"intercept is: \", lm.intercept_)\n",
    "print(\"coefficient is: \", lm.coef_)"
   ]
  },
  {
   "cell_type": "code",
   "execution_count": 4,
   "id": "normal-species",
   "metadata": {},
   "outputs": [
    {
     "data": {
      "text/plain": [
       "array([ 1.2,  3.5,  5.8,  8.1, 10.4])"
      ]
     },
     "execution_count": 4,
     "metadata": {},
     "output_type": "execute_result"
    }
   ],
   "source": [
    "# predict\n",
    "lm.predict(X)[0:5]"
   ]
  },
  {
   "cell_type": "code",
   "execution_count": null,
   "id": "alleged-attraction",
   "metadata": {},
   "outputs": [],
   "source": []
  }
 ],
 "metadata": {
  "kernelspec": {
   "display_name": "Python 3",
   "language": "python",
   "name": "python3"
  },
  "language_info": {
   "codemirror_mode": {
    "name": "ipython",
    "version": 3
   },
   "file_extension": ".py",
   "mimetype": "text/x-python",
   "name": "python",
   "nbconvert_exporter": "python",
   "pygments_lexer": "ipython3",
   "version": "3.6.5"
  }
 },
 "nbformat": 4,
 "nbformat_minor": 5
}
