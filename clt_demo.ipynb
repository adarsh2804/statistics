{
 "cells": [
  {
   "cell_type": "code",
   "execution_count": 1,
   "metadata": {},
   "outputs": [],
   "source": [
    "import warnings\n",
    "warnings.filterwarnings(\"ignore\")\n",
    "import numpy as np\n",
    "import matplotlib.pyplot as plt\n",
    "import seaborn as sns\n",
    "from scipy import stats\n",
    "from scipy.stats import skewnorm\n",
    "import random\n",
    "\n",
    "# set random number seed\n",
    "np.random.seed(0)"
   ]
  },
  {
   "cell_type": "code",
   "execution_count": 2,
   "metadata": {},
   "outputs": [
    {
     "data": {
      "image/png": "[encoded data removed]",
      "text/plain": [
       "<Figure size 432x288 with 1 Axes>"
      ]
     },
     "metadata": {
      "needs_background": "light"
     },
     "output_type": "display_data"
    }
   ],
   "source": [
    "# generate a population\n",
    "# parameter s is for skew, go from -4 to +4 and see the results\n",
    "skw = -5\n",
    "popn = stats.skewnorm.rvs (skw,size=50000)\n",
    "sns.distplot(popn);"
   ]
  },
  {
   "cell_type": "code",
   "execution_count": 3,
   "metadata": {},
   "outputs": [
    {
     "data": {
      "text/plain": [
       "-0.6790883491874973"
      ]
     },
     "execution_count": 3,
     "metadata": {},
     "output_type": "execute_result"
    }
   ],
   "source": [
    "# let us try drawing a single sample and calculating its mean\n",
    "smpl = random.choices(population = popn, k = 30)\n",
    "smpl\n",
    "np.mean(smpl)"
   ]
  },
  {
   "cell_type": "code",
   "execution_count": 4,
   "metadata": {},
   "outputs": [
    {
     "data": {
      "text/plain": [
       "[-0.3233366883178105,\n",
       " -0.046965563682362446,\n",
       " -1.9805774078099363,\n",
       " -0.6004119041351486,\n",
       " -0.6049803424830152,\n",
       " -1.0219614687237237,\n",
       " -0.5608152777187768,\n",
       " -0.15466490057021975,\n",
       " -0.25287770013791466,\n",
       " -0.8931803965906304,\n",
       " -2.025935478630439,\n",
       " -0.6764656170987954,\n",
       " -1.7836576639074373,\n",
       " -1.0882039093081102,\n",
       " -0.19100255582052061,\n",
       " -0.40887207531595915,\n",
       " -0.8726850913714046,\n",
       " -0.15475930232553015,\n",
       " -0.4197854778886554,\n",
       " -1.31434579163192,\n",
       " -0.21202327239790678,\n",
       " -0.951486069352318,\n",
       " -0.4663598985873378,\n",
       " -0.5299697084808099,\n",
       " 0.4094094840251861,\n",
       " -0.7546568772262487,\n",
       " -0.6789376522364565,\n",
       " -0.18540303496366,\n",
       " -0.5443916530570093,\n",
       " -1.0833471798800491]"
      ]
     },
     "execution_count": 4,
     "metadata": {},
     "output_type": "execute_result"
    }
   ],
   "source": [
    "smpl"
   ]
  },
  {
   "cell_type": "code",
   "execution_count": 5,
   "metadata": {},
   "outputs": [
    {
     "name": "stdout",
     "output_type": "stream",
     "text": [
      "0 : -0.8459204797162985\n",
      "1 : -0.7915038225149101\n",
      "2 : -0.9557894368971186\n"
     ]
    }
   ],
   "source": [
    "# let us try drawing a repeat samples of size n and calculate their means\n",
    "\n",
    "for i in range(3):\n",
    "    smpl = random.choices(population = popn, k = 30)\n",
    "    print(i, \":\", np.mean(smpl))"
   ]
  },
  {
   "cell_type": "code",
   "execution_count": 6,
   "metadata": {},
   "outputs": [],
   "source": [
    "# let us define a function that repeats this process many times and returns just the sample means\n",
    "    \n",
    "def sample_mean_calculator(population_array, n_samples, sample_size):\n",
    "    \n",
    "    # create an empty list to store the means of each sample\n",
    "    sample_means = []\n",
    "    for i in range(n_samples):\n",
    "       # generates a random sample of size 500 from a given array or a list\n",
    "        sample = np.random.choice(population_array, size=sample_size, replace=False)\n",
    "        \n",
    "        # calculate the mean of the sample data\n",
    "        sample_mean = np.mean(sample)\n",
    "        \n",
    "        # append the mean to the list\n",
    "        sample_means.append(sample_mean)    \n",
    "        #print(sample_mean)\n",
    "    return sample_means"
   ]
  },
  {
   "cell_type": "code",
   "execution_count": 7,
   "metadata": {},
   "outputs": [
    {
     "data": {
      "text/plain": [
       "[-0.7344146279322998, -0.6379564772868961, -0.933374973065349]"
      ]
     },
     "execution_count": 7,
     "metadata": {},
     "output_type": "execute_result"
    }
   ],
   "source": [
    "# let us see if this is working\n",
    "sample_mean_calculator(popn,3,30)"
   ]
  },
  {
   "cell_type": "code",
   "execution_count": 8,
   "metadata": {},
   "outputs": [
    {
     "name": "stdout",
     "output_type": "stream",
     "text": [
      "popn mean is:  -0.7780454451541778\n",
      "mean of sample means is:  -0.7772766825632925\n",
      "popn stdev is:  0.6240699670991167\n",
      "stdev of sample means is:  0.11362082820492099\n"
     ]
    },
    {
     "data": {
      "text/plain": [
       "0.11393906614723101"
      ]
     },
     "execution_count": 8,
     "metadata": {},
     "output_type": "execute_result"
    },
    {
     "data": {
      "image/png": "[encoded data removed]",
      "text/plain": [
       "<Figure size 432x288 with 1 Axes>"
      ]
     },
     "metadata": {
      "needs_background": "light"
     },
     "output_type": "display_data"
    }
   ],
   "source": [
    "# let us scale the numbers and plot the means\n",
    "n = 30 # size of each sample\n",
    "no_of_samples = 10000\n",
    "sample_means = sample_mean_calculator(popn,no_of_samples,n);\n",
    "sns.distplot(sample_means);\n",
    "print(\"popn mean is: \", np.mean(popn))\n",
    "print(\"mean of sample means is: \", np.mean(sample_means))\n",
    "print(\"popn stdev is: \", np.std(popn))\n",
    "print(\"stdev of sample means is: \", np.std(sample_means))\n",
    "np.std(popn) / np.sqrt(n)"
   ]
  },
  {
   "cell_type": "code",
   "execution_count": null,
   "metadata": {},
   "outputs": [],
   "source": []
  }
 ],
 "metadata": {
  "kernelspec": {
   "display_name": "Python 3",
   "language": "python",
   "name": "python3"
  },
  "language_info": {
   "codemirror_mode": {
    "name": "ipython",
    "version": 3
   },
   "file_extension": ".py",
   "mimetype": "text/x-python",
   "name": "python",
   "nbconvert_exporter": "python",
   "pygments_lexer": "ipython3",
   "version": "3.6.5"
  }
 },
 "nbformat": 4,
 "nbformat_minor": 2
}
