{
 "cells": [
  {
   "cell_type": "code",
   "execution_count": 1,
   "metadata": {},
   "outputs": [],
   "source": [
    "import numpy as np\n",
    "import seaborn as sns\n",
    "from scipy import stats"
   ]
  },
  {
   "cell_type": "code",
   "execution_count": 27,
   "metadata": {},
   "outputs": [],
   "source": [
    "import warnings\n",
    "warnings.filterwarnings('ignore')"
   ]
  },
  {
   "cell_type": "code",
   "execution_count": 28,
   "metadata": {},
   "outputs": [],
   "source": [
    "# generate population\n",
    "dat = stats.skewnorm.rvs(a=10, size=10000) # a is the skew"
   ]
  },
  {
   "cell_type": "code",
   "execution_count": 29,
   "metadata": {},
   "outputs": [
    {
     "data": {
      "text/plain": [
       "0.36296564127443864"
      ]
     },
     "execution_count": 29,
     "metadata": {},
     "output_type": "execute_result"
    }
   ],
   "source": [
    "# population var\n",
    "np.var(dat)"
   ]
  },
  {
   "cell_type": "code",
   "execution_count": 30,
   "metadata": {},
   "outputs": [
    {
     "data": {
      "image/png": "[encoded data removed]",
      "text/plain": [
       "<Figure size 432x288 with 1 Axes>"
      ]
     },
     "metadata": {
      "needs_background": "light"
     },
     "output_type": "display_data"
    }
   ],
   "source": [
    "sns.distplot(dat);"
   ]
  },
  {
   "cell_type": "code",
   "execution_count": 31,
   "metadata": {},
   "outputs": [],
   "source": [
    "#draw random samples of size n, compute stdev using n, n-1, n-2 append to list\n",
    "varn = []\n",
    "varnm1 = []\n",
    "varnm2 = []\n",
    "varnm3 = []\n",
    "\n",
    "n = 100\n",
    "for i in np.arange(10000):\n",
    "    smpl = np.random.choice(dat,size=n, replace=False) # draw sample\n",
    "    mn = np.mean(smpl) # sample mean\n",
    "    devn = np.sum((smpl - mn)**2) # numerator of stev\n",
    "    # using n\n",
    "    varn.append(devn/n)\n",
    "    # using n-1\n",
    "    varnm1.append(devn/(n-1))\n",
    "    # using n-2\n",
    "    varnm2.append(devn/(n-2))\n",
    "    # using n-3\n",
    "    varnm3.append(devn/(n-3))\n",
    "\n",
    "df = pd.DataFrame({'Var_n':varn, 'Var_nm1':varnm1, 'Var_nm2':varnm2, 'Var_nm3':varnm3 })"
   ]
  },
  {
   "cell_type": "code",
   "execution_count": 32,
   "metadata": {},
   "outputs": [
    {
     "data": {
      "text/html": [
       "<div>\n",
       "<style scoped>\n",
       "    .dataframe tbody tr th:only-of-type {\n",
       "        vertical-align: middle;\n",
       "    }\n",
       "\n",
       "    .dataframe tbody tr th {\n",
       "        vertical-align: top;\n",
       "    }\n",
       "\n",
       "    .dataframe thead th {\n",
       "        text-align: right;\n",
       "    }\n",
       "</style>\n",
       "<table border=\"1\" class=\"dataframe\">\n",
       "  <thead>\n",
       "    <tr style=\"text-align: right;\">\n",
       "      <th></th>\n",
       "      <th>Var_n</th>\n",
       "      <th>Var_nm1</th>\n",
       "      <th>Var_nm2</th>\n",
       "      <th>Var_nm3</th>\n",
       "    </tr>\n",
       "  </thead>\n",
       "  <tbody>\n",
       "    <tr>\n",
       "      <th>0</th>\n",
       "      <td>0.449375</td>\n",
       "      <td>0.453914</td>\n",
       "      <td>0.458546</td>\n",
       "      <td>0.463274</td>\n",
       "    </tr>\n",
       "    <tr>\n",
       "      <th>1</th>\n",
       "      <td>0.424858</td>\n",
       "      <td>0.429149</td>\n",
       "      <td>0.433528</td>\n",
       "      <td>0.437998</td>\n",
       "    </tr>\n",
       "    <tr>\n",
       "      <th>2</th>\n",
       "      <td>0.338725</td>\n",
       "      <td>0.342147</td>\n",
       "      <td>0.345638</td>\n",
       "      <td>0.349201</td>\n",
       "    </tr>\n",
       "    <tr>\n",
       "      <th>3</th>\n",
       "      <td>0.328647</td>\n",
       "      <td>0.331967</td>\n",
       "      <td>0.335354</td>\n",
       "      <td>0.338812</td>\n",
       "    </tr>\n",
       "    <tr>\n",
       "      <th>4</th>\n",
       "      <td>0.317878</td>\n",
       "      <td>0.321089</td>\n",
       "      <td>0.324365</td>\n",
       "      <td>0.327709</td>\n",
       "    </tr>\n",
       "  </tbody>\n",
       "</table>\n",
       "</div>"
      ],
      "text/plain": [
       "      Var_n   Var_nm1   Var_nm2   Var_nm3\n",
       "0  0.449375  0.453914  0.458546  0.463274\n",
       "1  0.424858  0.429149  0.433528  0.437998\n",
       "2  0.338725  0.342147  0.345638  0.349201\n",
       "3  0.328647  0.331967  0.335354  0.338812\n",
       "4  0.317878  0.321089  0.324365  0.327709"
      ]
     },
     "execution_count": 32,
     "metadata": {},
     "output_type": "execute_result"
    }
   ],
   "source": [
    "df.head()"
   ]
  },
  {
   "cell_type": "code",
   "execution_count": 33,
   "metadata": {},
   "outputs": [
    {
     "data": {
      "text/plain": [
       "(10000, 4)"
      ]
     },
     "execution_count": 33,
     "metadata": {},
     "output_type": "execute_result"
    }
   ],
   "source": [
    "df.shape"
   ]
  },
  {
   "cell_type": "code",
   "execution_count": 34,
   "metadata": {},
   "outputs": [],
   "source": [
    "# the stdev estimation using div by n underestimates population stdev consistently"
   ]
  },
  {
   "cell_type": "code",
   "execution_count": 35,
   "metadata": {},
   "outputs": [
    {
     "data": {
      "text/plain": [
       "0.36296564127443864"
      ]
     },
     "execution_count": 35,
     "metadata": {},
     "output_type": "execute_result"
    }
   ],
   "source": [
    "# this is the true sigma\n",
    "np.var(dat)"
   ]
  },
  {
   "cell_type": "code",
   "execution_count": 36,
   "metadata": {},
   "outputs": [
    {
     "data": {
      "text/plain": [
       "Var_n      0.003768\n",
       "Var_nm1    0.000139\n",
       "Var_nm2    0.003563\n",
       "Var_nm3    0.007341\n",
       "dtype: float64"
      ]
     },
     "execution_count": 36,
     "metadata": {},
     "output_type": "execute_result"
    }
   ],
   "source": [
    "abs(np.var(dat) - df.mean() )"
   ]
  },
  {
   "cell_type": "code",
   "execution_count": null,
   "metadata": {},
   "outputs": [],
   "source": []
  }
 ],
 "metadata": {
  "kernelspec": {
   "display_name": "Python 3",
   "language": "python",
   "name": "python3"
  },
  "language_info": {
   "codemirror_mode": {
    "name": "ipython",
    "version": 3
   },
   "file_extension": ".py",
   "mimetype": "text/x-python",
   "name": "python",
   "nbconvert_exporter": "python",
   "pygments_lexer": "ipython3",
   "version": "3.8.5"
  }
 },
 "nbformat": 4,
 "nbformat_minor": 2
}
